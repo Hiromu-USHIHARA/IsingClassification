{
  "nbformat": 4,
  "nbformat_minor": 0,
  "metadata": {
    "colab": {
      "provenance": []
    },
    "kernelspec": {
      "name": "python3",
      "display_name": "Python 3"
    },
    "language_info": {
      "name": "python"
    }
  },
  "cells": [
    {
      "cell_type": "code",
      "source": [
        "import numpy as np"
      ],
      "metadata": {
        "id": "G5MOoY9h0W89"
      },
      "execution_count": null,
      "outputs": []
    },
    {
      "cell_type": "code",
      "source": [
        "def simulate_ising(L, beta, Nsteps):\n",
        "  config=initilize_config(L)\n",
        "  for _ in range(Nsteps):\n",
        "    config=metropolis_step(config, beta)\n",
        "  return config"
      ],
      "metadata": {
        "id": "mjb4PRt8aVzG"
      },
      "execution_count": null,
      "outputs": []
    },
    {
      "cell_type": "code",
      "source": [
        "def initilize_config(L):\n",
        "  return np.random.choice([-1,1], size=(L,L))"
      ],
      "metadata": {
        "id": "HD-55YBkapCf"
      },
      "execution_count": null,
      "outputs": []
    },
    {
      "cell_type": "code",
      "source": [
        "def metropolis_step(config, beta):\n",
        "  \"\"\"\n",
        "  One step update of metropolis algorithm\n",
        "\n",
        "  Input\n",
        "  - config: current spin configuration\n",
        "  - beta: inverse temperature\n",
        "\n",
        "  Output\n",
        "  - config: updated configuration\n",
        "  \"\"\"\n",
        "  L=config.shape[0]\n",
        "  for _ in range(L*L):\n",
        "    i,j = np.random.randint(0,L,size=2)\n",
        "    S=config[i,j]\n",
        "    # nearest neighbour spins\n",
        "    S_nbr=config[(i+1)%L,j]+config[(i-1)%L,j]+config[i,(j-1)%L]+config[i,(j+1)%L]\n",
        "    dE=2*S*S_nbr\n",
        "    if dE<0 or np.random.rand()<np.exp(-beta*dE):\n",
        "      config[i,j]*=-1\n",
        "  return config"
      ],
      "metadata": {
        "id": "FxAwYT0YYPW7"
      },
      "execution_count": null,
      "outputs": []
    },
    {
      "cell_type": "code",
      "source": [
        "import matplotlib.pyplot as plt"
      ],
      "metadata": {
        "id": "LVGmv9Ijbe0f"
      },
      "execution_count": null,
      "outputs": []
    },
    {
      "cell_type": "code",
      "source": [
        "def visualize_config(config):\n",
        "  plt.imshow(config, cmap=\"bwr\", vmin=-1, vmax=1)\n",
        "  plt.colorbar(label=\"Spin\")\n",
        "  plt.title(\"Ising spin configuration\")\n",
        "  plt.axis(\"off\")\n",
        "  plt.show()"
      ],
      "metadata": {
        "id": "AC0MLqZVbLws"
      },
      "execution_count": null,
      "outputs": []
    },
    {
      "cell_type": "code",
      "source": [
        "visualize_config(simulate_ising(20,.1,100))"
      ],
      "metadata": {
        "id": "O9ESkA2ubRcW"
      },
      "execution_count": null,
      "outputs": []
    },
    {
      "cell_type": "code",
      "source": [
        "def generate_dataset(L, Ts, Nsamples, Nsteps):\n",
        "  \"\"\"\n",
        "  Generate dataset for supervised learning\n",
        "\n",
        "  Input\n",
        "  - L: lattice size\n",
        "  - Ts: temperature range\n",
        "  - Nsamples: size of samples for each temperature\n",
        "  - Nsteps: steps of metropolitan algorithm\n",
        "\n",
        "  Output\n",
        "  - np.array(data): predictor\n",
        "  - np.array(labels): target\n",
        "  \"\"\"\n",
        "  data=[]\n",
        "  labels=[]\n",
        "  Tc = 2/np.log(1+np.sqrt(2)) # 2.269\n",
        "  for T in Ts:\n",
        "    beta=1/T\n",
        "    for _ in range(Nsamples):\n",
        "      config=simulate_ising(L,beta,Nsteps)\n",
        "      data.append(config.copy())\n",
        "      labels.append(1 if T<Tc else 0) # ordered or not\n",
        "  return np.array(data), np.array(labels)"
      ],
      "metadata": {
        "id": "jsr6bzllb9E8"
      },
      "execution_count": null,
      "outputs": []
    },
    {
      "cell_type": "code",
      "source": [
        "L_=8\n",
        "Ts_=np.linspace(1.,4.,20)\n",
        "Nsamples_=100\n",
        "Nsteps_=100\n",
        "\n",
        "xs_,ys_=generate_dataset(L_,Ts_,Nsamples_,Nsteps_)"
      ],
      "metadata": {
        "id": "lYBVH3Orfrn9"
      },
      "execution_count": null,
      "outputs": []
    },
    {
      "cell_type": "code",
      "source": [
        "visualize_config(xs_[0])\n",
        "print(\"Label:\", ys_[0])\n",
        "visualize_config(xs_[-1])\n",
        "print(\"Label:\", ys_[-1])"
      ],
      "metadata": {
        "id": "cEOgzgSrf7xI"
      },
      "execution_count": null,
      "outputs": []
    },
    {
      "cell_type": "code",
      "source": [
        "# np.savez(\"ising_data.npz\", X=xs_, y=ys_)"
      ],
      "metadata": {
        "id": "3887TzmZgTvV"
      },
      "execution_count": null,
      "outputs": []
    },
    {
      "cell_type": "code",
      "source": [
        "# data = np.load(\"ising_data.npz\")\n",
        "# xs_, ys_ = data[\"X\"], data[\"y\"]"
      ],
      "metadata": {
        "id": "wvZvCbB7gdec"
      },
      "execution_count": null,
      "outputs": []
    },
    {
      "cell_type": "code",
      "source": [
        "xs_ = xs_.reshape(\n",
        "    -1, # auto estimation for sample size\n",
        "    L_,L_,\n",
        "    1 # gray scale images cf. 3 for RGB\n",
        "    ).astype(\"float64\")\n",
        "ys_=ys_.astype(\"int\")"
      ],
      "metadata": {
        "id": "lDG7mWbMhI01"
      },
      "execution_count": null,
      "outputs": []
    },
    {
      "cell_type": "code",
      "source": [
        "import tensorflow as tf\n",
        "from tensorflow.keras import layers, models"
      ],
      "metadata": {
        "id": "g0LeYHw9hm6-"
      },
      "execution_count": null,
      "outputs": []
    },
    {
      "cell_type": "code",
      "source": [
        "!wget https://github.com/Hiromu-USHIHARA/IsingClassification/raw/main/model.h5\n",
        "model = tf.keras.models.load_model(\"model.h5\")"
      ],
      "metadata": {
        "id": "V0fDtwXYxT6Q"
      },
      "execution_count": null,
      "outputs": []
    },
    {
      "cell_type": "code",
      "source": [
        "model=models.Sequential([\n",
        "    layers.Input((L_,L_,1)),\n",
        "    layers.Conv2D(32,(3,3),activation=\"relu\", padding=\"same\"),\n",
        "    layers.MaxPooling2D((2,2)),\n",
        "    layers.Conv2D(64,(3,3),activation=\"relu\", padding=\"same\"),\n",
        "    layers.Flatten(),\n",
        "    layers.Dense(64,activation=\"relu\"),\n",
        "    layers.Dense(2,activation=\"softmax\")\n",
        "])"
      ],
      "metadata": {
        "id": "-lhXbbqFhi19"
      },
      "execution_count": null,
      "outputs": []
    },
    {
      "cell_type": "code",
      "source": [
        "from tensorflow.keras.utils import plot_model\n",
        "from IPython.display import Image\n",
        "\n",
        "plot_model(model,\n",
        "           to_file=\"model.png\",\n",
        "           show_shapes=True,\n",
        "           show_layer_names=True,\n",
        "           dpi=100)\n",
        "\n",
        "Image(filename=\"model.png\", width=400)"
      ],
      "metadata": {
        "id": "nq-OSFKCjp_V"
      },
      "execution_count": null,
      "outputs": []
    },
    {
      "cell_type": "code",
      "source": [
        "model.compile(\n",
        "    optimizer=\"adam\",\n",
        "    loss=\"sparse_categorical_crossentropy\",\n",
        "    metrics=[\"accuracy\"]\n",
        ")"
      ],
      "metadata": {
        "id": "n5m5tBCojqxn"
      },
      "execution_count": null,
      "outputs": []
    },
    {
      "cell_type": "code",
      "source": [
        "model.fit(xs_, ys_, epochs=10, batch_size=32, validation_split=0.2)"
      ],
      "metadata": {
        "id": "Mq-ERB7_ktDY"
      },
      "execution_count": null,
      "outputs": []
    },
    {
      "cell_type": "code",
      "source": [
        "# model.save(\"ising_cnn_model.h5\")"
      ],
      "metadata": {
        "id": "1anU9xCDlpNo"
      },
      "execution_count": null,
      "outputs": []
    },
    {
      "cell_type": "code",
      "source": [
        "# model = tf.keras.models.load_model(\"ising_cnn_model.h5\")"
      ],
      "metadata": {
        "id": "MT7l1PuemJXD"
      },
      "execution_count": null,
      "outputs": []
    },
    {
      "cell_type": "code",
      "source": [
        "def check():\n",
        "  id = np.random.randint(0,len(xs_)-1)\n",
        "  sample=xs_[id].reshape(1,L_,L_,1)\n",
        "\n",
        "  visualize_config(sample.reshape(L_,L_))\n",
        "  print(\"Correct label:\", ys_[id])\n",
        "\n",
        "  prediction=model.predict(sample, verbose=0)\n",
        "  pred_label=prediction.argmax()\n",
        "  print(\"Predicted label:\", pred_label)"
      ],
      "metadata": {
        "id": "0RYJHI4ImNXB"
      },
      "execution_count": null,
      "outputs": []
    },
    {
      "cell_type": "code",
      "source": [
        "check()"
      ],
      "metadata": {
        "id": "EvfrYlKGnUe8"
      },
      "execution_count": null,
      "outputs": []
    },
    {
      "cell_type": "code",
      "source": [
        "def test(mod,L,Ts=Ts_,Nsamples=Nsamples_,Nsteps=Nsteps_):\n",
        "  probs=[]\n",
        "\n",
        "  for T in Ts:\n",
        "    beta=1/T\n",
        "    configs=[simulate_ising(L,beta,Nsteps) for _ in range(Nsamples)]\n",
        "    inputs=np.array(configs).reshape(-1,L,L,1).astype(\"float64\")\n",
        "    predictions=mod.predict(inputs,verbose=0)\n",
        "    ordered_probs=predictions[:,1].mean()\n",
        "    probs.append(ordered_probs)\n",
        "\n",
        "  plt.figure(figsize=(16,9))\n",
        "  plt.plot(Ts,probs,label=\"Predicted ordered probability\")\n",
        "  plt.axvline(2/np.log(1+np.sqrt(2)), color=\"gray\", linestyle=\"--\", label=\"Tc (theory)\")\n",
        "  plt.xlabel(\"Temperature\")\n",
        "  plt.legend()\n",
        "  plt.grid(True)\n",
        "  plt.show()"
      ],
      "metadata": {
        "id": "mdllX7ssnVg0"
      },
      "execution_count": null,
      "outputs": []
    },
    {
      "cell_type": "code",
      "source": [
        "test(model, L_)"
      ],
      "metadata": {
        "id": "aITgpAykq2h_"
      },
      "execution_count": null,
      "outputs": []
    },
    {
      "cell_type": "code",
      "source": [],
      "metadata": {
        "id": "StHU_PpJrCpw"
      },
      "execution_count": null,
      "outputs": []
    }
  ]
}